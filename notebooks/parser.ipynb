{
 "cells": [
  {
   "cell_type": "code",
   "execution_count": 6,
   "id": "initial_id",
   "metadata": {
    "collapsed": true,
    "ExecuteTime": {
     "end_time": "2024-06-14T20:40:06.822562Z",
     "start_time": "2024-06-14T20:40:06.805405Z"
    }
   },
   "outputs": [],
   "source": [
    "from bs4 import BeautifulSoup\n",
    "import requests\n",
    "import fake_useragent"
   ]
  },
  {
   "cell_type": "code",
   "outputs": [],
   "source": [
    "ua = fake_useragent.UserAgent()\n",
    "headers = {\n",
    "    \"User-Agent\":ua.random,\n",
    "}"
   ],
   "metadata": {
    "collapsed": false,
    "ExecuteTime": {
     "end_time": "2024-06-14T20:40:54.090308Z",
     "start_time": "2024-06-14T20:40:54.075543Z"
    }
   },
   "id": "f7fc913eaca947c4",
   "execution_count": 8
  },
  {
   "cell_type": "code",
   "outputs": [],
   "source": [
    "res = requests.request(method=\"GET\", url=\"https://www.nytimes.com/international/section/world\",headers=headers)"
   ],
   "metadata": {
    "collapsed": false,
    "ExecuteTime": {
     "end_time": "2024-06-14T20:40:56.178720Z",
     "start_time": "2024-06-14T20:40:55.234531Z"
    }
   },
   "id": "f81ff32a990da9c4",
   "execution_count": 9
  },
  {
   "cell_type": "code",
   "outputs": [],
   "source": [
    "soup = BeautifulSoup(res.content)"
   ],
   "metadata": {
    "collapsed": false,
    "ExecuteTime": {
     "end_time": "2024-06-14T20:42:48.559576Z",
     "start_time": "2024-06-14T20:42:48.526242Z"
    }
   },
   "id": "6e37ddbbba14992b",
   "execution_count": 11
  },
  {
   "cell_type": "code",
   "outputs": [
    {
     "data": {
      "text/plain": "'/2024/06/14/us/politics/fbi-director-africa-terrorism-threat.html'"
     },
     "execution_count": 15,
     "metadata": {},
     "output_type": "execute_result"
    }
   ],
   "source": [
    "soup.find(name=\"div\", attrs={\"class\":\"css-13mho3u\"}).find(name=\"a\").attrs[\"href\"]"
   ],
   "metadata": {
    "collapsed": false,
    "ExecuteTime": {
     "end_time": "2024-06-14T20:45:24.265901Z",
     "start_time": "2024-06-14T20:45:24.251124Z"
    }
   },
   "id": "1178573cd35f2d51",
   "execution_count": 15
  },
  {
   "cell_type": "code",
   "outputs": [],
   "source": [
    "url = 'https://www.nytimes.com/2024/06/14/us/politics/fbi-director-africa-terrorism-threat.html'"
   ],
   "metadata": {
    "collapsed": false,
    "ExecuteTime": {
     "end_time": "2024-06-14T20:46:14.196540Z",
     "start_time": "2024-06-14T20:46:14.186825Z"
    }
   },
   "id": "40ecf652620c2cf8",
   "execution_count": 16
  },
  {
   "cell_type": "code",
   "outputs": [],
   "source": [
    "article = requests.request(method=\"GET\", url=url,headers=headers)"
   ],
   "metadata": {
    "collapsed": false,
    "ExecuteTime": {
     "end_time": "2024-06-14T20:46:55.779509Z",
     "start_time": "2024-06-14T20:46:54.766246Z"
    }
   },
   "id": "18f79ed8a52aa36a",
   "execution_count": 17
  },
  {
   "cell_type": "code",
   "outputs": [],
   "source": [
    "article_soup = BeautifulSoup(article.content)"
   ],
   "metadata": {
    "collapsed": false,
    "ExecuteTime": {
     "end_time": "2024-06-14T20:48:29.604549Z",
     "start_time": "2024-06-14T20:48:29.578908Z"
    }
   },
   "id": "18adeb7d76a08ca2",
   "execution_count": 19
  },
  {
   "cell_type": "code",
   "outputs": [
    {
     "data": {
      "text/plain": "'F.B.I. Director Makes Rare Visit to Africa as Terrorism Threat Grows'"
     },
     "execution_count": 20,
     "metadata": {},
     "output_type": "execute_result"
    }
   ],
   "source": [
    "article_soup.find(name=\"h1\").text"
   ],
   "metadata": {
    "collapsed": false,
    "ExecuteTime": {
     "end_time": "2024-06-14T20:48:47.839854Z",
     "start_time": "2024-06-14T20:48:47.826970Z"
    }
   },
   "id": "edbfe11f14936a0f",
   "execution_count": 20
  },
  {
   "cell_type": "code",
   "outputs": [
    {
     "data": {
      "text/plain": "'The Islamic State and Al Qaeda consider Africa ‘very fertile ground,’ said Christopher A. Wray, who is meeting with officials in Nigeria and Kenya.'"
     },
     "execution_count": 21,
     "metadata": {},
     "output_type": "execute_result"
    }
   ],
   "source": [
    "article_soup.find(name=\"p\", attrs={\"id\":\"article-summary\"}).text"
   ],
   "metadata": {
    "collapsed": false,
    "ExecuteTime": {
     "end_time": "2024-06-14T20:50:10.020276Z",
     "start_time": "2024-06-14T20:50:10.002236Z"
    }
   },
   "id": "de42f5d5dd06ea12",
   "execution_count": 21
  },
  {
   "cell_type": "code",
   "outputs": [
    {
     "data": {
      "text/plain": "'https://static01.nyt.com/images/2024/06/14/multimedia/14DC-TERROR-bqhp/14DC-TERROR-bqhp-superJumbo.jpg'"
     },
     "execution_count": 23,
     "metadata": {},
     "output_type": "execute_result"
    }
   ],
   "source": [
    "article_soup.find(name=\"img\",).attrs[\"srcset\"].split(',')[-1].split('?')[0]"
   ],
   "metadata": {
    "collapsed": false,
    "ExecuteTime": {
     "end_time": "2024-06-14T20:53:33.341381Z",
     "start_time": "2024-06-14T20:53:33.325062Z"
    }
   },
   "id": "b6e52c3a082ae4f9",
   "execution_count": 23
  }
 ],
 "metadata": {
  "kernelspec": {
   "display_name": "Python 3",
   "language": "python",
   "name": "python3"
  },
  "language_info": {
   "codemirror_mode": {
    "name": "ipython",
    "version": 2
   },
   "file_extension": ".py",
   "mimetype": "text/x-python",
   "name": "python",
   "nbconvert_exporter": "python",
   "pygments_lexer": "ipython2",
   "version": "2.7.6"
  }
 },
 "nbformat": 4,
 "nbformat_minor": 5
}
