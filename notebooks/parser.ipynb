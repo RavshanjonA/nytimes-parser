{
 "cells": [
  {
   "cell_type": "code",
   "execution_count": 1,
   "id": "initial_id",
   "metadata": {
    "collapsed": true,
    "ExecuteTime": {
     "end_time": "2024-08-04T11:43:21.488647Z",
     "start_time": "2024-08-04T11:43:21.351602Z"
    }
   },
   "outputs": [],
   "source": [
    "from bs4 import BeautifulSoup\n",
    "import requests\n",
    "import fake_useragent"
   ]
  },
  {
   "cell_type": "code",
   "outputs": [],
   "source": [
    "ua = fake_useragent.UserAgent()\n",
    "headers = {\n",
    "    \"User-Agent\":ua.random,\n",
    "}"
   ],
   "metadata": {
    "collapsed": false,
    "ExecuteTime": {
     "end_time": "2024-08-04T11:43:22.241814Z",
     "start_time": "2024-08-04T11:43:22.232783Z"
    }
   },
   "id": "f7fc913eaca947c4",
   "execution_count": 2
  },
  {
   "cell_type": "code",
   "outputs": [],
   "source": [
    "res = requests.request(method=\"GET\", url=\"https://www.nytimes.com/international/section/world\",headers=headers)"
   ],
   "metadata": {
    "collapsed": false,
    "ExecuteTime": {
     "end_time": "2024-08-04T11:43:23.875629Z",
     "start_time": "2024-08-04T11:43:23.143892Z"
    }
   },
   "id": "f81ff32a990da9c4",
   "execution_count": 3
  },
  {
   "cell_type": "code",
   "outputs": [],
   "source": [
    "soup = BeautifulSoup(res.content)"
   ],
   "metadata": {
    "collapsed": false,
    "ExecuteTime": {
     "end_time": "2024-08-04T11:43:24.698228Z",
     "start_time": "2024-08-04T11:43:24.658214Z"
    }
   },
   "id": "6e37ddbbba14992b",
   "execution_count": 4
  },
  {
   "cell_type": "code",
   "outputs": [
    {
     "data": {
      "text/plain": "'/2024/08/04/world/americas/maduro-regime-venezuela.html'"
     },
     "execution_count": 5,
     "metadata": {},
     "output_type": "execute_result"
    }
   ],
   "source": [
    "soup.find(name=\"div\", attrs={\"class\":\"css-13mho3u\"}).find(name=\"a\").attrs[\"href\"]"
   ],
   "metadata": {
    "collapsed": false,
    "ExecuteTime": {
     "end_time": "2024-08-04T11:43:25.883001Z",
     "start_time": "2024-08-04T11:43:25.874002Z"
    }
   },
   "id": "1178573cd35f2d51",
   "execution_count": 5
  },
  {
   "cell_type": "code",
   "outputs": [],
   "source": [
    "url = 'https://www.nytimes.com/2024/06/14/us/politics/fbi-director-africa-terrorism-threat.html'"
   ],
   "metadata": {
    "collapsed": false,
    "ExecuteTime": {
     "end_time": "2024-08-04T11:43:27.129248Z",
     "start_time": "2024-08-04T11:43:27.116248Z"
    }
   },
   "id": "40ecf652620c2cf8",
   "execution_count": 6
  },
  {
   "cell_type": "code",
   "outputs": [],
   "source": [
    "article = requests.request(method=\"GET\", url=url,headers=headers)"
   ],
   "metadata": {
    "collapsed": false,
    "ExecuteTime": {
     "end_time": "2024-08-04T11:43:28.600848Z",
     "start_time": "2024-08-04T11:43:28.135552Z"
    }
   },
   "id": "18f79ed8a52aa36a",
   "execution_count": 7
  },
  {
   "cell_type": "code",
   "outputs": [],
   "source": [
    "article_soup = BeautifulSoup(article.content)"
   ],
   "metadata": {
    "collapsed": false,
    "ExecuteTime": {
     "end_time": "2024-08-04T11:43:30.104924Z",
     "start_time": "2024-08-04T11:43:30.084909Z"
    }
   },
   "id": "18adeb7d76a08ca2",
   "execution_count": 8
  },
  {
   "cell_type": "code",
   "outputs": [
    {
     "data": {
      "text/plain": "b'<html><head><title>nytimes.com</title><style>#cmsg{animation: A 1.5s;}@keyframes A{0%{opacity:0;}99%{opacity:0;}100%{opacity:1;}}</style></head><body style=\"margin:0\"><p id=\"cmsg\">Please enable JS and disable any ad blocker</p><script data-cfasync=\"false\">var dd={\\'rt\\':\\'c\\',\\'cid\\':\\'AHrlqAAAAAMApYacSe8TZmIAVDZQEg==\\',\\'hsh\\':\\'499AE34129FA4E4FABC31582C3075D\\',\\'t\\':\\'fe\\',\\'s\\':17439,\\'e\\':\\'7692600a16360fc3ad1f4932e2435e5c3d2d316a8446372793758c8c50930930\\',\\'host\\':\\'geo.captcha-delivery.com\\'}</script><script data-cfasync=\"false\" src=\"https://ct.captcha-delivery.com/c.js\"></script></body></html>'"
     },
     "execution_count": 10,
     "metadata": {},
     "output_type": "execute_result"
    }
   ],
   "source": [
    "article.content"
   ],
   "metadata": {
    "collapsed": false,
    "ExecuteTime": {
     "end_time": "2024-08-04T11:43:46.817508Z",
     "start_time": "2024-08-04T11:43:46.802508Z"
    }
   },
   "id": "26bca2fbe77da944",
   "execution_count": 10
  },
  {
   "cell_type": "code",
   "outputs": [
    {
     "ename": "AttributeError",
     "evalue": "'NoneType' object has no attribute 'text'",
     "output_type": "error",
     "traceback": [
      "\u001B[1;31m---------------------------------------------------------------------------\u001B[0m",
      "\u001B[1;31mAttributeError\u001B[0m                            Traceback (most recent call last)",
      "Cell \u001B[1;32mIn[9], line 1\u001B[0m\n\u001B[1;32m----> 1\u001B[0m \u001B[43marticle_soup\u001B[49m\u001B[38;5;241;43m.\u001B[39;49m\u001B[43mfind\u001B[49m\u001B[43m(\u001B[49m\u001B[43mname\u001B[49m\u001B[38;5;241;43m=\u001B[39;49m\u001B[38;5;124;43m\"\u001B[39;49m\u001B[38;5;124;43mh1\u001B[39;49m\u001B[38;5;124;43m\"\u001B[39;49m\u001B[43m)\u001B[49m\u001B[38;5;241;43m.\u001B[39;49m\u001B[43mtext\u001B[49m\n",
      "\u001B[1;31mAttributeError\u001B[0m: 'NoneType' object has no attribute 'text'"
     ]
    }
   ],
   "source": [
    "article_soup.find(name=\"h1\").text"
   ],
   "metadata": {
    "collapsed": false,
    "ExecuteTime": {
     "end_time": "2024-08-04T11:43:31.434711Z",
     "start_time": "2024-08-04T11:43:31.250679Z"
    }
   },
   "id": "edbfe11f14936a0f",
   "execution_count": 9
  },
  {
   "cell_type": "code",
   "outputs": [
    {
     "data": {
      "text/plain": "'The Islamic State and Al Qaeda consider Africa ‘very fertile ground,’ said Christopher A. Wray, who is meeting with officials in Nigeria and Kenya.'"
     },
     "execution_count": 10,
     "metadata": {},
     "output_type": "execute_result"
    }
   ],
   "source": [
    "article_soup.find(name=\"p\", attrs={\"id\":\"article-summary\"}).text"
   ],
   "metadata": {
    "collapsed": false,
    "ExecuteTime": {
     "end_time": "2024-07-04T19:45:29.378288Z",
     "start_time": "2024-07-04T19:45:29.368287Z"
    }
   },
   "id": "de42f5d5dd06ea12",
   "execution_count": 10
  },
  {
   "cell_type": "code",
   "outputs": [
    {
     "data": {
      "text/plain": "'https://static01.nyt.com/images/2024/06/14/multimedia/14DC-TERROR-bqhp/14DC-TERROR-bqhp-superJumbo.jpg'"
     },
     "execution_count": 11,
     "metadata": {},
     "output_type": "execute_result"
    }
   ],
   "source": [
    "article_soup.find(name=\"img\",).attrs[\"srcset\"].split(',')[-1].split('?')[0]"
   ],
   "metadata": {
    "collapsed": false,
    "ExecuteTime": {
     "end_time": "2024-07-04T19:45:30.272288Z",
     "start_time": "2024-07-04T19:45:30.260287Z"
    }
   },
   "id": "b6e52c3a082ae4f9",
   "execution_count": 11
  },
  {
   "cell_type": "code",
   "outputs": [],
   "source": [],
   "metadata": {
    "collapsed": false
   },
   "id": "1695fd20cfffc139"
  }
 ],
 "metadata": {
  "kernelspec": {
   "display_name": "Python 3",
   "language": "python",
   "name": "python3"
  },
  "language_info": {
   "codemirror_mode": {
    "name": "ipython",
    "version": 2
   },
   "file_extension": ".py",
   "mimetype": "text/x-python",
   "name": "python",
   "nbconvert_exporter": "python",
   "pygments_lexer": "ipython2",
   "version": "2.7.6"
  }
 },
 "nbformat": 4,
 "nbformat_minor": 5
}
