{
 "cells": [
  {
   "cell_type": "code",
   "execution_count": 1,
   "id": "initial_id",
   "metadata": {
    "collapsed": true,
    "ExecuteTime": {
     "end_time": "2024-08-04T11:40:14.433326Z",
     "start_time": "2024-08-04T11:40:14.344314Z"
    }
   },
   "outputs": [],
   "source": [
    "from bs4 import BeautifulSoup\n",
    "import requests"
   ]
  },
  {
   "cell_type": "code",
   "outputs": [],
   "source": [
    "from fake_useragent import FakeUserAgent\n",
    "ua = FakeUserAgent()"
   ],
   "metadata": {
    "collapsed": false,
    "ExecuteTime": {
     "end_time": "2024-08-04T11:40:15.436102Z",
     "start_time": "2024-08-04T11:40:15.419088Z"
    }
   },
   "id": "a175059587390917",
   "execution_count": 2
  },
  {
   "cell_type": "code",
   "outputs": [],
   "source": [
    "host=\"https://www.nytimes.com\""
   ],
   "metadata": {
    "collapsed": false,
    "ExecuteTime": {
     "end_time": "2024-08-04T11:40:16.781771Z",
     "start_time": "2024-08-04T11:40:16.776772Z"
    }
   },
   "id": "c626d3072a4c89eb",
   "execution_count": 3
  },
  {
   "cell_type": "code",
   "outputs": [],
   "source": [
    "response = requests.request(method=\"GET\", url=f\"{host}/section/world\",)"
   ],
   "metadata": {
    "collapsed": false,
    "ExecuteTime": {
     "end_time": "2024-08-04T11:40:18.393050Z",
     "start_time": "2024-08-04T11:40:17.535555Z"
    }
   },
   "id": "6c645a385f3ab4e5",
   "execution_count": 4
  },
  {
   "cell_type": "code",
   "outputs": [],
   "source": [
    "soup = BeautifulSoup(response.content)"
   ],
   "metadata": {
    "collapsed": false,
    "ExecuteTime": {
     "end_time": "2024-08-04T11:40:19.484163Z",
     "start_time": "2024-08-04T11:40:19.453906Z"
    }
   },
   "id": "5d10589d01e628df",
   "execution_count": 5
  },
  {
   "cell_type": "code",
   "outputs": [],
   "source": [
    "new_url= soup.find(\"div\", attrs={\"class\":\"css-13mho3u\"}).find(name=\"a\").attrs[\"href\"]"
   ],
   "metadata": {
    "collapsed": false,
    "ExecuteTime": {
     "end_time": "2024-08-04T11:40:21.396205Z",
     "start_time": "2024-08-04T11:40:21.389205Z"
    }
   },
   "id": "ce285dac0f76f6d1",
   "execution_count": 6
  },
  {
   "cell_type": "code",
   "outputs": [
    {
     "data": {
      "text/plain": "'/2024/08/04/world/americas/maduro-regime-venezuela.html'"
     },
     "execution_count": 7,
     "metadata": {},
     "output_type": "execute_result"
    }
   ],
   "source": [
    "new_url"
   ],
   "metadata": {
    "collapsed": false,
    "ExecuteTime": {
     "end_time": "2024-08-04T11:40:23.261970Z",
     "start_time": "2024-08-04T11:40:23.241870Z"
    }
   },
   "id": "84e8c0cbf26e0f51",
   "execution_count": 7
  },
  {
   "cell_type": "code",
   "outputs": [
    {
     "data": {
      "text/plain": "'https://www.nytimes.com/2024/08/04/world/americas/maduro-regime-venezuela.html'"
     },
     "execution_count": 8,
     "metadata": {},
     "output_type": "execute_result"
    }
   ],
   "source": [
    "new_host=host+new_url\n",
    "new_host"
   ],
   "metadata": {
    "collapsed": false,
    "ExecuteTime": {
     "end_time": "2024-08-04T11:40:28.248903Z",
     "start_time": "2024-08-04T11:40:28.234904Z"
    }
   },
   "id": "b652641c09502c60",
   "execution_count": 8
  },
  {
   "cell_type": "code",
   "outputs": [],
   "source": [
    "header = {\n",
    "    \"User-Agent\":ua.random\n",
    "}"
   ],
   "metadata": {
    "collapsed": false,
    "ExecuteTime": {
     "end_time": "2024-08-04T11:40:30.774136Z",
     "start_time": "2024-08-04T11:40:30.765115Z"
    }
   },
   "id": "48627a618b7ea484",
   "execution_count": 9
  },
  {
   "cell_type": "code",
   "outputs": [
    {
     "data": {
      "text/plain": "b'<html><head><title>nytimes.com</title><style>#cmsg{animation: A 1.5s;}@keyframes A{0%{opacity:0;}99%{opacity:0;}100%{opacity:1;}}</style></head><body style=\"margin:0\"><p id=\"cmsg\">Please enable JS and disable any ad blocker</p><script data-cfasync=\"false\">var dd={\\'rt\\':\\'c\\',\\'cid\\':\\'AHrlqAAAAAMAYvdUMuuJ8UkAVDZQEg==\\',\\'hsh\\':\\'499AE34129FA4E4FABC31582C3075D\\',\\'t\\':\\'fe\\',\\'s\\':17439,\\'e\\':\\'41c928f5665490dc6e86e80f0aecde6ad0ff0261308f309b20036141fc2cdbf9\\',\\'host\\':\\'geo.captcha-delivery.com\\'}</script><script data-cfasync=\"false\" src=\"https://ct.captcha-delivery.com/c.js\"></script></body></html>'"
     },
     "execution_count": 12,
     "metadata": {},
     "output_type": "execute_result"
    }
   ],
   "source": [
    "article=requests.request(method=\"GET\", url=new_host, headers=header)\n",
    "article.content"
   ],
   "metadata": {
    "collapsed": false,
    "ExecuteTime": {
     "end_time": "2024-08-04T11:41:12.362882Z",
     "start_time": "2024-08-04T11:41:11.864023Z"
    }
   },
   "id": "8ab703f58e918509",
   "execution_count": 12
  },
  {
   "cell_type": "code",
   "outputs": [],
   "source": [
    "article_soup = BeautifulSoup(article.content)"
   ],
   "metadata": {
    "collapsed": false,
    "ExecuteTime": {
     "end_time": "2024-07-04T20:05:01.044002Z",
     "start_time": "2024-07-04T20:05:01.021863Z"
    }
   },
   "id": "66bf6ffea143cee6",
   "execution_count": 27
  },
  {
   "cell_type": "markdown",
   "source": [],
   "metadata": {
    "collapsed": false
   },
   "id": "ab769f8ae4e2017d"
  },
  {
   "cell_type": "code",
   "outputs": [
    {
     "data": {
      "text/plain": "'What Happens on Election Night in the U.K., and What Comes Next'"
     },
     "execution_count": 29,
     "metadata": {},
     "output_type": "execute_result"
    }
   ],
   "source": [
    "article_soup.find(name=\"h1\").text"
   ],
   "metadata": {
    "collapsed": false,
    "ExecuteTime": {
     "end_time": "2024-07-04T20:05:33.810260Z",
     "start_time": "2024-07-04T20:05:33.791264Z"
    }
   },
   "id": "64ff453f7cba6f91",
   "execution_count": 29
  },
  {
   "cell_type": "code",
   "outputs": [
    {
     "data": {
      "text/plain": "'Almost every district is expected to declare a winner by 7 a.m. local time. A clear opposition victory would result in a quick transition of power.'"
     },
     "execution_count": 34,
     "metadata": {},
     "output_type": "execute_result"
    }
   ],
   "source": [
    "article_soup.find(name=\"p\", attrs={\"class\":\"css-olangu\"}).text"
   ],
   "metadata": {
    "collapsed": false,
    "ExecuteTime": {
     "end_time": "2024-07-04T20:11:03.370259Z",
     "start_time": "2024-07-04T20:11:03.365335Z"
    }
   },
   "id": "9b7ec32edd33f787",
   "execution_count": 34
  },
  {
   "cell_type": "code",
   "outputs": [
    {
     "data": {
      "text/plain": "[<p class=\"css-at9mc1 evys1bk0\">It’s been 14 years since an opposition party won a general election in Britain. Opinion polling strongly suggests that streak is about to be broken by the Labour Party. As the voting comes to an end, here’s a guide to what’s likely to happen tonight and over the next few days.</p>,\n <p class=\"css-at9mc1 evys1bk0\">The first indication of the outcome will come just after polls close at 10 p.m. local time (5 p.m. Eastern), when the major British broadcasters reveal the national exit poll. It’s a survey of thousands of voters just after they have cast their ballots, and has come close to the final result in recent elections, though there’s always a chance of that streak being broken, too.</p>,\n <p class=\"css-at9mc1 evys1bk0\">The votes are counted overnight. A first couple of parliamentary districts usually finish their work within two hours of polls closing, and almost every district is expected to declare a winner by 7 a.m. local time (2 a.m. Eastern). Prime Minister Rishi Sunak and the Labour leader who hopes to replace him, <a class=\"css-yywogo\" href=\"https://www.nytimes.com/2024/07/02/world/europe/keir-starmer-uk-election.html\" title=\"\">Keir Starmer</a>, would customarily speak when the results are declared in their own districts, probably after 2:30 a.m. local time for Mr. Starmer and after 4 a.m. local time for Mr. Sunak.</p>,\n <p class=\"css-at9mc1 evys1bk0\">Should there be a clear opposition victory, the transition of power would take place with ruthless speed.</p>,\n <p class=\"css-at9mc1 evys1bk0\">“If the election results in an overall majority for a different party,” says the <a class=\"css-yywogo\" href=\"https://assets.publishing.service.gov.uk/media/5a79d5d7e5274a18ba50f2b6/cabinet-manual.pdf\" rel=\"noopener noreferrer\" target=\"_blank\" title=\"\">Cabinet Manual</a>, which sets out the official guidance on the process, “the incumbent prime minister and government will immediately resign and the sovereign will invite the leader of the party that has won the election to form a government.”</p>,\n <p class=\"css-at9mc1 evys1bk0\">“Immediately,” in practice, would mean Friday morning.</p>,\n <p class=\"css-at9mc1 evys1bk0\">By “recent custom,” <a class=\"css-yywogo\" href=\"https://commonslibrary.parliament.uk/how-is-a-prime-minister-appointed/\" rel=\"noopener noreferrer\" target=\"_blank\" title=\"\">according to the House of Commons library</a>, departing prime ministers pose with their families for a final set of photographs in Downing Street, their home and workplace while in office.</p>]"
     },
     "execution_count": 42,
     "metadata": {},
     "output_type": "execute_result"
    }
   ],
   "source": [
    "article_soup.find_all(\"p\", attrs={\"class\":\"css-at9mc1\"})"
   ],
   "metadata": {
    "collapsed": false,
    "ExecuteTime": {
     "end_time": "2024-07-04T20:23:41.349669Z",
     "start_time": "2024-07-04T20:23:41.333729Z"
    }
   },
   "id": "8494177041761336",
   "execution_count": 42
  },
  {
   "cell_type": "code",
   "outputs": [
    {
     "data": {
      "text/plain": "'https://static01.nyt.com/images/2024/07/04/multimedia/04uk-blog-what-to-expect-fckg/04uk-blog-what-to-expect-fckg-superJumbo.jpg?quality=75&auto=webp'"
     },
     "execution_count": 40,
     "metadata": {},
     "output_type": "execute_result"
    }
   ],
   "source": [
    "article_soup.find(name=\"img\").attrs['srcset'].split(\",\")[-1].split(\" \")[0]"
   ],
   "metadata": {
    "collapsed": false,
    "ExecuteTime": {
     "end_time": "2024-07-04T20:20:19.222803Z",
     "start_time": "2024-07-04T20:20:19.201807Z"
    }
   },
   "id": "2655598442e9fddb",
   "execution_count": 40
  },
  {
   "cell_type": "code",
   "outputs": [],
   "source": [],
   "metadata": {
    "collapsed": false
   },
   "id": "259309853e044f79"
  }
 ],
 "metadata": {
  "kernelspec": {
   "display_name": "Python 3",
   "language": "python",
   "name": "python3"
  },
  "language_info": {
   "codemirror_mode": {
    "name": "ipython",
    "version": 2
   },
   "file_extension": ".py",
   "mimetype": "text/x-python",
   "name": "python",
   "nbconvert_exporter": "python",
   "pygments_lexer": "ipython2",
   "version": "2.7.6"
  }
 },
 "nbformat": 4,
 "nbformat_minor": 5
}
